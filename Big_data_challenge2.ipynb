{
  "nbformat": 4,
  "nbformat_minor": 0,
  "metadata": {
    "colab": {
      "name": "Big_data_challenge2.ipynb",
      "provenance": [],
      "authorship_tag": "ABX9TyNwHVdXSqClY9041D3LZIVV",
      "include_colab_link": true
    },
    "kernelspec": {
      "name": "python3",
      "display_name": "Python 3"
    },
    "language_info": {
      "name": "python"
    }
  },
  "cells": [
    {
      "cell_type": "markdown",
      "metadata": {
        "id": "view-in-github",
        "colab_type": "text"
      },
      "source": [
        "<a href=\"https://colab.research.google.com/github/melcardenas28/Big_Data_Challenge/blob/main/Big_data_challenge2.ipynb\" target=\"_parent\"><img src=\"https://colab.research.google.com/assets/colab-badge.svg\" alt=\"Open In Colab\"/></a>"
      ]
    },
    {
      "cell_type": "code",
      "metadata": {
        "colab": {
          "base_uri": "https://localhost:8080/"
        },
        "id": "fq-01RIOstk0",
        "outputId": "cc1f9936-cda2-45b4-9563-f091332171ea"
      },
      "source": [
        "import os\n",
        "\n",
        "# Install Spark and Java\n",
        "!apt-get update\n",
        "!apt-get install openjdk-8-jdk-headless -qq > /dev/null\n",
        "!wget -q https://archive.apache.org/dist/spark/spark-3.1.2/spark-3.1.2-bin-hadoop3.2.tgz\n",
        "!tar xf spark-3.1.2-bin-hadoop3.2.tgz\n",
        "\n",
        "# Set Environment Variables\n",
        "os.environ[\"JAVA_HOME\"] = \"/usr/lib/jvm/java-8-openjdk-amd64\"\n",
        "os.environ[\"SPARK_HOME\"] = \"/content/spark-3.1.2-bin-hadoop3.2\"\n",
        "\n",
        "!pip install -q findspark\n",
        "\n",
        "# Start a SparkSession\n",
        "import findspark\n",
        "findspark.init()"
      ],
      "execution_count": 1,
      "outputs": [
        {
          "output_type": "stream",
          "name": "stdout",
          "text": [
            "\r0% [Working]\r            \rGet:1 https://cloud.r-project.org/bin/linux/ubuntu bionic-cran40/ InRelease [3,626 B]\n",
            "Ign:2 https://developer.download.nvidia.com/compute/cuda/repos/ubuntu1804/x86_64  InRelease\n",
            "Get:3 http://security.ubuntu.com/ubuntu bionic-security InRelease [88.7 kB]\n",
            "Ign:4 https://developer.download.nvidia.com/compute/machine-learning/repos/ubuntu1804/x86_64  InRelease\n",
            "Get:5 https://developer.download.nvidia.com/compute/cuda/repos/ubuntu1804/x86_64  Release [696 B]\n",
            "Hit:6 https://developer.download.nvidia.com/compute/machine-learning/repos/ubuntu1804/x86_64  Release\n",
            "Get:7 https://developer.download.nvidia.com/compute/cuda/repos/ubuntu1804/x86_64  Release.gpg [836 B]\n",
            "Hit:8 http://archive.ubuntu.com/ubuntu bionic InRelease\n",
            "Hit:9 http://ppa.launchpad.net/c2d4u.team/c2d4u4.0+/ubuntu bionic InRelease\n",
            "Get:10 http://archive.ubuntu.com/ubuntu bionic-updates InRelease [88.7 kB]\n",
            "Hit:11 http://ppa.launchpad.net/cran/libgit2/ubuntu bionic InRelease\n",
            "Get:13 https://developer.download.nvidia.com/compute/cuda/repos/ubuntu1804/x86_64  Packages [786 kB]\n",
            "Hit:14 http://ppa.launchpad.net/deadsnakes/ppa/ubuntu bionic InRelease\n",
            "Get:15 http://archive.ubuntu.com/ubuntu bionic-backports InRelease [74.6 kB]\n",
            "Hit:16 http://ppa.launchpad.net/graphics-drivers/ppa/ubuntu bionic InRelease\n",
            "Get:17 http://security.ubuntu.com/ubuntu bionic-security/universe amd64 Packages [1,434 kB]\n",
            "Get:18 http://security.ubuntu.com/ubuntu bionic-security/main amd64 Packages [2,398 kB]\n",
            "Get:19 http://archive.ubuntu.com/ubuntu bionic-updates/universe amd64 Packages [2,213 kB]\n",
            "Get:20 http://archive.ubuntu.com/ubuntu bionic-updates/main amd64 Packages [2,835 kB]\n",
            "Fetched 9,924 kB in 4s (2,280 kB/s)\n",
            "Reading package lists... Done\n"
          ]
        }
      ]
    },
    {
      "cell_type": "code",
      "metadata": {
        "colab": {
          "base_uri": "https://localhost:8080/"
        },
        "id": "n46cdQMzs4i9",
        "outputId": "8d40e893-7f00-4aa1-b242-c989a8f0efac"
      },
      "source": [
        "!wget https://jdbc.postgresql.org/download/postgresql-42.2.9.jar"
      ],
      "execution_count": 2,
      "outputs": [
        {
          "output_type": "stream",
          "name": "stdout",
          "text": [
            "--2021-10-29 06:19:39--  https://jdbc.postgresql.org/download/postgresql-42.2.9.jar\n",
            "Resolving jdbc.postgresql.org (jdbc.postgresql.org)... 72.32.157.228, 2001:4800:3e1:1::228\n",
            "Connecting to jdbc.postgresql.org (jdbc.postgresql.org)|72.32.157.228|:443... connected.\n",
            "HTTP request sent, awaiting response... 200 OK\n",
            "Length: 914037 (893K) [application/java-archive]\n",
            "Saving to: ‘postgresql-42.2.9.jar’\n",
            "\n",
            "postgresql-42.2.9.j 100%[===================>] 892.61K  4.50MB/s    in 0.2s    \n",
            "\n",
            "2021-10-29 06:19:39 (4.50 MB/s) - ‘postgresql-42.2.9.jar’ saved [914037/914037]\n",
            "\n"
          ]
        }
      ]
    },
    {
      "cell_type": "code",
      "metadata": {
        "colab": {
          "base_uri": "https://localhost:8080/"
        },
        "id": "U29b9hv0tD5Y",
        "outputId": "e124f2cf-0702-4fea-c84d-eceef8694f12"
      },
      "source": [
        "# Start Spark session\n",
        "from pyspark.sql import SparkSession\n",
        "from pyspark.sql.types import StructField, StringType, IntegerType, StructType, DateType\n",
        "from pyspark import SparkFiles\n",
        "from pyspark.sql.functions import col\n",
        "\n",
        "\n",
        "# Read in data from S3 Bukets\n",
        "spark = SparkSession.builder.appName(\"AmazonReviews_Toys\").config(\"spark.driver.extraClassPath\",\"/content/postgresql-42.2.9.jar\").getOrCreate()\n",
        "url= \"https://s3.amazonaws.com/amazon-reviews-pds/tsv/amazon_reviews_us_Toys_v1_00.tsv.gz\"\n",
        "spark.sparkContext.addFile(url)\n",
        "df = spark.read.csv(SparkFiles.get('amazon_reviews_us_Toys_v1_00.tsv.gz'), sep='\\t', header=True, inferSchema=True)\n",
        "df.show(n=5,truncate=False)"
      ],
      "execution_count": 3,
      "outputs": [
        {
          "output_type": "stream",
          "name": "stdout",
          "text": [
            "+-----------+-----------+--------------+----------+--------------+----------------------------------------------------------------------+----------------+-----------+-------------+-----------+----+-----------------+----------------------------------------------------------+-------------------------------------------------------------------------------------------------------------------------------------------------------------------------------------------------------------------------------------------------------------------------+-----------+\n",
            "|marketplace|customer_id|review_id     |product_id|product_parent|product_title                                                         |product_category|star_rating|helpful_votes|total_votes|vine|verified_purchase|review_headline                                           |review_body                                                                                                                                                                                                                                                              |review_date|\n",
            "+-----------+-----------+--------------+----------+--------------+----------------------------------------------------------------------+----------------+-----------+-------------+-----------+----+-----------------+----------------------------------------------------------+-------------------------------------------------------------------------------------------------------------------------------------------------------------------------------------------------------------------------------------------------------------------------+-----------+\n",
            "|US         |18778586   |RDIJS7QYB6XNR |B00EDBY7X8|122952789     |Monopoly Junior Board Game                                            |Toys            |5          |0            |0          |N   |Y                |Five Stars                                                |Excellent!!!                                                                                                                                                                                                                                                             |2015-08-31 |\n",
            "|US         |24769659   |R36ED1U38IELG8|B00D7JFOPC|952062646     |56 Pieces of Wooden Train Track Compatible with All Major Train Brands|Toys            |5          |0            |0          |N   |Y                |Good quality track at excellent price                     |Great quality wooden track (better than some others we have tried). Perfect match to the various vintages of Thomas track that we already have. There is enough track here to have fun and get creative incorporating your key pieces with track splits, loops and bends.|2015-08-31 |\n",
            "|US         |44331596   |R1UE3RPRGCOLD |B002LHA74O|818126353     |Super Jumbo Playing Cards by S&S Worldwide                            |Toys            |2          |1            |1          |N   |Y                |Two Stars                                                 |Cards are not as big as pictured.                                                                                                                                                                                                                                        |2015-08-31 |\n",
            "|US         |23310293   |R298788GS6I901|B00ARPLCGY|261944918     |Barbie Doll and Fashions Barbie Gift Set                              |Toys            |5          |0            |0          |N   |Y                |my daughter loved it and i liked the price and it came ...|my daughter loved it and i liked the price and it came to me rather than shopping with a ton of people around me. Amazon is the Best way to shop!                                                                                                                        |2015-08-31 |\n",
            "|US         |38745832   |RNX4EXOBBPN5  |B00UZOPOFW|717410439     |Emazing Lights eLite Flow Glow Sticks - Spinning Light LED Toy        |Toys            |1          |1            |1          |N   |Y                |DONT BUY THESE!                                           |Do not buy these! They break very fast I spun then for 15 minutes and the end flew off don't waste your money. They are made from cheap plastic and have cracks in them. Buy the poi balls they work a lot better if you only have limited funds.                        |2015-08-31 |\n",
            "+-----------+-----------+--------------+----------+--------------+----------------------------------------------------------------------+----------------+-----------+-------------+-----------+----+-----------------+----------------------------------------------------------+-------------------------------------------------------------------------------------------------------------------------------------------------------------------------------------------------------------------------------------------------------------------------+-----------+\n",
            "only showing top 5 rows\n",
            "\n"
          ]
        }
      ]
    },
    {
      "cell_type": "code",
      "metadata": {
        "colab": {
          "base_uri": "https://localhost:8080/"
        },
        "id": "AhhA83KDtt3x",
        "outputId": "c5fa5551-fe1e-4023-effb-676e0a659ca0"
      },
      "source": [
        "# Current schema type\n",
        "df.printSchema()"
      ],
      "execution_count": 4,
      "outputs": [
        {
          "output_type": "stream",
          "name": "stdout",
          "text": [
            "root\n",
            " |-- marketplace: string (nullable = true)\n",
            " |-- customer_id: integer (nullable = true)\n",
            " |-- review_id: string (nullable = true)\n",
            " |-- product_id: string (nullable = true)\n",
            " |-- product_parent: integer (nullable = true)\n",
            " |-- product_title: string (nullable = true)\n",
            " |-- product_category: string (nullable = true)\n",
            " |-- star_rating: integer (nullable = true)\n",
            " |-- helpful_votes: integer (nullable = true)\n",
            " |-- total_votes: integer (nullable = true)\n",
            " |-- vine: string (nullable = true)\n",
            " |-- verified_purchase: string (nullable = true)\n",
            " |-- review_headline: string (nullable = true)\n",
            " |-- review_body: string (nullable = true)\n",
            " |-- review_date: string (nullable = true)\n",
            "\n"
          ]
        }
      ]
    },
    {
      "cell_type": "code",
      "metadata": {
        "colab": {
          "base_uri": "https://localhost:8080/"
        },
        "id": "2EAJDQ74t2Vj",
        "outputId": "850f3baf-31eb-48dd-fbc4-427e94cccb65"
      },
      "source": [
        "# Count number of rows in dataset\n",
        "df.count()"
      ],
      "execution_count": 5,
      "outputs": [
        {
          "output_type": "execute_result",
          "data": {
            "text/plain": [
              "4864249"
            ]
          },
          "metadata": {},
          "execution_count": 5
        }
      ]
    },
    {
      "cell_type": "code",
      "metadata": {
        "colab": {
          "base_uri": "https://localhost:8080/"
        },
        "id": "0fOMxHWVt9br",
        "outputId": "13c4d90f-7c61-4c62-a753-28683ddb332c"
      },
      "source": [
        "# Create review_id_table and verify schema\n",
        "toys_review_id_table = df.select(df.review_id, df.customer_id, df.product_id, df.product_parent, df.review_date.astype(dataType=DateType()))\n",
        "toys_review_id_table.printSchema()"
      ],
      "execution_count": 6,
      "outputs": [
        {
          "output_type": "stream",
          "name": "stdout",
          "text": [
            "root\n",
            " |-- review_id: string (nullable = true)\n",
            " |-- customer_id: integer (nullable = true)\n",
            " |-- product_id: string (nullable = true)\n",
            " |-- product_parent: integer (nullable = true)\n",
            " |-- review_date: date (nullable = true)\n",
            "\n"
          ]
        }
      ]
    },
    {
      "cell_type": "code",
      "metadata": {
        "colab": {
          "base_uri": "https://localhost:8080/"
        },
        "id": "2XiFxalxuLRa",
        "outputId": "0e775d6c-7d8b-4c8f-ffc5-0198c9a41352"
      },
      "source": [
        "# Create products table and verify schema\n",
        "toys_products = df.select(df.product_id, df.product_title)\n",
        "toys_products.printSchema()\n"
      ],
      "execution_count": 7,
      "outputs": [
        {
          "output_type": "stream",
          "name": "stdout",
          "text": [
            "root\n",
            " |-- product_id: string (nullable = true)\n",
            " |-- product_title: string (nullable = true)\n",
            "\n"
          ]
        }
      ]
    },
    {
      "cell_type": "code",
      "metadata": {
        "colab": {
          "base_uri": "https://localhost:8080/"
        },
        "id": "UwOKLOFHuQOJ",
        "outputId": "31937590-a0c5-4f37-b9be-394b41b1a830"
      },
      "source": [
        "# Create customers table and verify schema\n",
        "toys_customers = df.groupBy('customer_id').count().withColumn('count',col('count').cast(IntegerType()))\n",
        "toys_customers.printSchema()"
      ],
      "execution_count": 8,
      "outputs": [
        {
          "output_type": "stream",
          "name": "stdout",
          "text": [
            "root\n",
            " |-- customer_id: integer (nullable = true)\n",
            " |-- count: integer (nullable = false)\n",
            "\n"
          ]
        }
      ]
    },
    {
      "cell_type": "code",
      "metadata": {
        "colab": {
          "base_uri": "https://localhost:8080/"
        },
        "id": "tBl5CnADuWWW",
        "outputId": "2509aad8-5b20-4303-a5c7-b0fcf94deb56"
      },
      "source": [
        "# Create vine_table and verify schema\n",
        "toys_vine_table = df.select(df.review_id, df.star_rating, df.helpful_votes, df.total_votes, df.vine)\n",
        "toys_vine_table.printSchema()"
      ],
      "execution_count": 9,
      "outputs": [
        {
          "output_type": "stream",
          "name": "stdout",
          "text": [
            "root\n",
            " |-- review_id: string (nullable = true)\n",
            " |-- star_rating: integer (nullable = true)\n",
            " |-- helpful_votes: integer (nullable = true)\n",
            " |-- total_votes: integer (nullable = true)\n",
            " |-- vine: string (nullable = true)\n",
            "\n"
          ]
        }
      ]
    },
    {
      "cell_type": "code",
      "metadata": {
        "id": "TL0mqwxtufCV"
      },
      "source": [
        "# Configuration for RDS instance\n",
        "mode=\"append\"\n",
        "jdbc_url = \"jdbc:postgresql://mypostgresdb.cryub0wqjex7.us-east-2.rds.amazonaws.com:5432/my_data_class_db\"\n",
        "config = {\"user\":\"root\",\n",
        "          \"password\": \"g1EC1QdWl\",\n",
        "          \"driver\":\"org.postgresql.Driver\"}"
      ],
      "execution_count": 10,
      "outputs": []
    },
    {
      "cell_type": "code",
      "metadata": {
        "id": "4H_RTOAhug0c"
      },
      "source": [
        "# Write dataframes to RDS\n",
        "toys_review_id_table.write.jdbc(url=jdbc_url,\n",
        "                         table ='toys_review_id_table', \n",
        "                         mode=mode, properties = config)"
      ],
      "execution_count": null,
      "outputs": []
    },
    {
      "cell_type": "code",
      "metadata": {
        "id": "ypm_4DXPuvmd"
      },
      "source": [
        "toys_products.write.jdbc(url=jdbc_url,\n",
        "                         table ='toys_products', \n",
        "                         mode=mode, properties = config)"
      ],
      "execution_count": null,
      "outputs": []
    },
    {
      "cell_type": "code",
      "metadata": {
        "id": "euGBmaoTuy3m"
      },
      "source": [
        "toys_customers.write.jdbc(url=jdbc_url,\n",
        "                         table ='toys_customers', \n",
        "                         mode=mode, properties = config)"
      ],
      "execution_count": null,
      "outputs": []
    },
    {
      "cell_type": "code",
      "metadata": {
        "id": "aVLbRtF8u1-e"
      },
      "source": [
        "toys_vine_table.write.jdbc(url=jdbc_url,\n",
        "                         table ='toys_vine_table', \n",
        "                         mode=mode, properties = config)"
      ],
      "execution_count": null,
      "outputs": []
    }
  ]
}